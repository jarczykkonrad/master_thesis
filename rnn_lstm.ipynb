{
 "cells": [
  {
   "cell_type": "code",
   "execution_count": 17,
   "metadata": {},
   "outputs": [],
   "source": [
    "# Loading\n",
    "\n",
    "import pandas as pd\n",
    "df_combined = pd.read_parquet('parquets/house2/df_combined1') # Choose Paquet name"
   ]
  },
  {
   "cell_type": "markdown",
   "metadata": {},
   "source": [
    "<h3><center><b>RNN / LSTM</b></center></h3>\n",
    "<hr>"
   ]
  },
  {
   "cell_type": "code",
   "execution_count": 18,
   "metadata": {},
   "outputs": [],
   "source": [
    "# trimming for full days, need for windowing\n",
    "import pandas as pd\n",
    "\n",
    "def trim_data_to_full_days(data):\n",
    "    if not isinstance(data.index, pd.DatetimeIndex):\n",
    "        if 'timestamp' in data.columns:\n",
    "            data['timestamp'] = pd.to_datetime(data['timestamp'])\n",
    "            data.set_index('timestamp', inplace=True)\n",
    "        else:\n",
    "            raise ValueError(\"Dataframe must have a 'timestamp' column or DatetimeIndex.\")\n",
    "\n",
    "    data = data.sort_index()\n",
    "    first_full_day = data.index.ceil('D')[0]\n",
    "    last_full_day = data.index.floor('D')[-1]\n",
    "\n",
    "    trimmed_data = data[first_full_day:last_full_day]\n",
    "    return trimmed_data\n",
    "\n",
    "df_combined = trim_data_to_full_days(df_combined)"
   ]
  },
  {
   "cell_type": "code",
   "execution_count": 19,
   "metadata": {},
   "outputs": [],
   "source": [
    "for col in df_combined.columns:\n",
    "    df_combined[col] = pd.to_numeric(df_combined[col], errors='coerce')"
   ]
  },
  {
   "cell_type": "code",
   "execution_count": 20,
   "metadata": {},
   "outputs": [],
   "source": [
    "X = df_combined[['what_hour', 'what_day', 'is_weekend', 'aggregate', 'agg_clustered']]\n",
    "\n",
    "Y_columns = df_combined.columns.difference(X.columns)\n",
    "Y = df_combined[Y_columns]"
   ]
  },
  {
   "cell_type": "code",
   "execution_count": 21,
   "metadata": {},
   "outputs": [],
   "source": [
    "# one-hot encoding\n",
    "# Choose devices for training\n",
    "\n",
    "# columns_to_encode = [ 'hairdryer', '24_inch_lcd_bedroom', 'kettle', 'oven', 'dishwasher', 'washer_dryer'] # house5\n",
    "\n",
    "columns_to_encode = ['kettle', 'rice_cooker', 'washing_machine', 'dish_washer', 'microwave', 'toaster'] # house2\n",
    "\n",
    "\n",
    "Y= pd.get_dummies(Y, columns=columns_to_encode)\n",
    "Y = Y.astype(int)"
   ]
  },
  {
   "cell_type": "code",
   "execution_count": 22,
   "metadata": {},
   "outputs": [],
   "source": [
    "from sklearn.preprocessing import StandardScaler\n",
    "scaler = StandardScaler()\n",
    "\n",
    "X_scaled= scaler.fit_transform(X) # normalizing input"
   ]
  },
  {
   "cell_type": "code",
   "execution_count": 23,
   "metadata": {},
   "outputs": [
    {
     "name": "stdout",
     "output_type": "stream",
     "text": [
      "(6575, 60, 5)\n",
      "(6575, 60, 21)\n"
     ]
    }
   ],
   "source": [
    "import numpy as np\n",
    "\n",
    "def sliding_window(data, size, step):\n",
    "    num_windows = 1 + (len(data) - size) // step\n",
    "    windows = [data[i * step:i * step + size] for i in range(num_windows)]\n",
    "    return np.array(windows)\n",
    "\n",
    "\n",
    "window_size = 60\n",
    "step_size = 30\n",
    "\n",
    "X_windowed = sliding_window(X_scaled, window_size, step_size)\n",
    "Y_windowed = sliding_window(Y, window_size, step_size)\n",
    "\n",
    "print(X_windowed.shape)\n",
    "print(Y_windowed.shape)"
   ]
  },
  {
   "cell_type": "code",
   "execution_count": 24,
   "metadata": {},
   "outputs": [],
   "source": [
    "import tensorflow as tf\n",
    "from sklearn.model_selection import train_test_split\n",
    "\n",
    "X_train_val, X_test = train_test_split(X_windowed, test_size=0.15, random_state=42)\n",
    "X_train, X_val = train_test_split(X_train_val, test_size=0.15/0.85, random_state=42)\n",
    "\n",
    "Y_train_val, Y_test = train_test_split(Y_windowed, test_size=0.15, random_state=42)\n",
    "Y_train, Y_val = train_test_split(Y_train_val, test_size=0.15/0.85, random_state=42)"
   ]
  },
  {
   "cell_type": "code",
   "execution_count": 25,
   "metadata": {},
   "outputs": [
    {
     "name": "stdout",
     "output_type": "stream",
     "text": [
      "X_train shape: (4601, 60, 5)\n",
      "X_val shape: (987, 60, 5)\n",
      "X_test shape: (987, 60, 5)\n",
      "Y_train shape: (4601, 60, 21)\n",
      "Y_val shape: (987, 60, 21)\n",
      "Y_test shape: (987, 60, 21)\n"
     ]
    }
   ],
   "source": [
    "print(f\"X_train shape: {X_train.shape}\")\n",
    "print(f\"X_val shape: {X_val.shape}\")\n",
    "print(f\"X_test shape: {X_test.shape}\")\n",
    "print(f\"Y_train shape: {Y_train.shape}\")\n",
    "print(f\"Y_val shape: {Y_val.shape}\")\n",
    "print(f\"Y_test shape: {Y_test.shape}\")"
   ]
  },
  {
   "cell_type": "code",
   "execution_count": 26,
   "metadata": {},
   "outputs": [
    {
     "name": "stdout",
     "output_type": "stream",
     "text": [
      "Model: \"sequential_1\"\n",
      "_________________________________________________________________\n",
      " Layer (type)                Output Shape              Param #   \n",
      "=================================================================\n",
      " lstm_2 (LSTM)               (None, 60, 128)           68608     \n",
      "                                                                 \n",
      " dropout_1 (Dropout)         (None, 60, 128)           0         \n",
      "                                                                 \n",
      " lstm_3 (LSTM)               (None, 60, 128)           131584    \n",
      "                                                                 \n",
      " dense_1 (Dense)             (None, 60, 21)            2709      \n",
      "                                                                 \n",
      "=================================================================\n",
      "Total params: 202901 (792.58 KB)\n",
      "Trainable params: 202901 (792.58 KB)\n",
      "Non-trainable params: 0 (0.00 Byte)\n",
      "_________________________________________________________________\n",
      "Epoch 1/30\n",
      "144/144 [==============================] - 20s 104ms/step - loss: 0.1085 - accuracy: 0.2937 - val_loss: 0.0414 - val_accuracy: 0.0000e+00\n",
      "Epoch 2/30\n",
      "  1/144 [..............................] - ETA: 13s - loss: 0.0288 - accuracy: 0.0000e+00"
     ]
    },
    {
     "name": "stderr",
     "output_type": "stream",
     "text": [
      "c:\\Python311\\Lib\\site-packages\\keras\\src\\engine\\training.py:3103: UserWarning: You are saving your model as an HDF5 file via `model.save()`. This file format is considered legacy. We recommend using instead the native Keras format, e.g. `model.save('my_model.keras')`.\n",
      "  saving_api.save_model(\n"
     ]
    },
    {
     "name": "stdout",
     "output_type": "stream",
     "text": [
      "144/144 [==============================] - 13s 88ms/step - loss: 0.0320 - accuracy: 7.2448e-06 - val_loss: 0.0257 - val_accuracy: 0.0000e+00\n",
      "Epoch 3/30\n",
      "144/144 [==============================] - 14s 94ms/step - loss: 0.0221 - accuracy: 3.6224e-06 - val_loss: 0.0193 - val_accuracy: 0.0000e+00\n",
      "Epoch 4/30\n",
      "144/144 [==============================] - 16s 112ms/step - loss: 0.0166 - accuracy: 0.0024 - val_loss: 0.0147 - val_accuracy: 0.0105\n",
      "Epoch 5/30\n",
      "144/144 [==============================] - 17s 116ms/step - loss: 0.0129 - accuracy: 0.0162 - val_loss: 0.0122 - val_accuracy: 0.0207\n",
      "Epoch 6/30\n",
      "144/144 [==============================] - 16s 113ms/step - loss: 0.0108 - accuracy: 0.0254 - val_loss: 0.0103 - val_accuracy: 0.0362\n",
      "Epoch 7/30\n",
      "144/144 [==============================] - 18s 122ms/step - loss: 0.0096 - accuracy: 0.0382 - val_loss: 0.0090 - val_accuracy: 0.0463\n",
      "Epoch 8/30\n",
      "144/144 [==============================] - 16s 112ms/step - loss: 0.0081 - accuracy: 0.0761 - val_loss: 0.0079 - val_accuracy: 0.0666\n",
      "Epoch 9/30\n",
      "144/144 [==============================] - 14s 96ms/step - loss: 0.0072 - accuracy: 0.1384 - val_loss: 0.0080 - val_accuracy: 0.0780\n",
      "Epoch 10/30\n",
      "144/144 [==============================] - 14s 96ms/step - loss: 0.0064 - accuracy: 0.1926 - val_loss: 0.0069 - val_accuracy: 0.0866\n",
      "Epoch 11/30\n",
      "144/144 [==============================] - 14s 97ms/step - loss: 0.0059 - accuracy: 0.3043 - val_loss: 0.0060 - val_accuracy: 0.0802\n",
      "Epoch 12/30\n",
      "144/144 [==============================] - 15s 104ms/step - loss: 0.0053 - accuracy: 0.3182 - val_loss: 0.0055 - val_accuracy: 0.3518\n",
      "Epoch 13/30\n",
      "144/144 [==============================] - 15s 101ms/step - loss: 0.0048 - accuracy: 0.3390 - val_loss: 0.0051 - val_accuracy: 0.1649\n",
      "Epoch 14/30\n",
      "144/144 [==============================] - 15s 102ms/step - loss: 0.0044 - accuracy: 0.3136 - val_loss: 0.0055 - val_accuracy: 0.3241\n",
      "Epoch 15/30\n",
      "144/144 [==============================] - 14s 100ms/step - loss: 0.0044 - accuracy: 0.3122 - val_loss: 0.0047 - val_accuracy: 0.1552\n",
      "Epoch 16/30\n",
      "144/144 [==============================] - 14s 98ms/step - loss: 0.0042 - accuracy: 0.3218 - val_loss: 0.0045 - val_accuracy: 0.1173\n",
      "Epoch 17/30\n",
      "144/144 [==============================] - 14s 98ms/step - loss: 0.0037 - accuracy: 0.2986 - val_loss: 0.0040 - val_accuracy: 0.0516\n",
      "Epoch 18/30\n",
      "144/144 [==============================] - 14s 98ms/step - loss: 0.0035 - accuracy: 0.2650 - val_loss: 0.0041 - val_accuracy: 0.0419\n",
      "Epoch 19/30\n",
      "144/144 [==============================] - 14s 98ms/step - loss: 0.0034 - accuracy: 0.2245 - val_loss: 0.0038 - val_accuracy: 0.0548\n",
      "Epoch 20/30\n",
      "144/144 [==============================] - 14s 98ms/step - loss: 0.0031 - accuracy: 0.1986 - val_loss: 0.0036 - val_accuracy: 0.0394\n",
      "Epoch 21/30\n",
      "144/144 [==============================] - 14s 97ms/step - loss: 0.0029 - accuracy: 0.1449 - val_loss: 0.0034 - val_accuracy: 0.0383\n",
      "Epoch 22/30\n",
      "144/144 [==============================] - 14s 97ms/step - loss: 0.0029 - accuracy: 0.1021 - val_loss: 0.0033 - val_accuracy: 0.0378\n",
      "Epoch 23/30\n",
      "144/144 [==============================] - 14s 95ms/step - loss: 0.0028 - accuracy: 0.0623 - val_loss: 0.0039 - val_accuracy: 0.0335\n",
      "Epoch 24/30\n",
      "144/144 [==============================] - 14s 98ms/step - loss: 0.0027 - accuracy: 0.0810 - val_loss: 0.0032 - val_accuracy: 0.0334\n",
      "Epoch 25/30\n",
      "144/144 [==============================] - 14s 97ms/step - loss: 0.0027 - accuracy: 0.0665 - val_loss: 0.0033 - val_accuracy: 0.0326\n",
      "Epoch 26/30\n",
      "144/144 [==============================] - 14s 99ms/step - loss: 0.0030 - accuracy: 0.0814 - val_loss: 0.0031 - val_accuracy: 0.0337\n",
      "Epoch 27/30\n",
      "144/144 [==============================] - 14s 97ms/step - loss: 0.0024 - accuracy: 0.0524 - val_loss: 0.0030 - val_accuracy: 0.0329\n",
      "Epoch 28/30\n",
      "144/144 [==============================] - 15s 106ms/step - loss: 0.0023 - accuracy: 0.0419 - val_loss: 0.0030 - val_accuracy: 0.0326\n",
      "Epoch 29/30\n",
      "144/144 [==============================] - 15s 106ms/step - loss: 0.0023 - accuracy: 0.0428 - val_loss: 0.0027 - val_accuracy: 0.0317\n",
      "Epoch 30/30\n",
      "144/144 [==============================] - 14s 101ms/step - loss: 0.0022 - accuracy: 0.0404 - val_loss: 0.0028 - val_accuracy: 0.0305\n",
      "31/31 [==============================] - 1s 40ms/step - loss: 0.0019 - accuracy: 0.0279\n",
      "Test Loss: 0.0018877072725445032, Test Accuracy: 0.02787909470498562\n"
     ]
    }
   ],
   "source": [
    "# RNN / LSTM for one hot encoded data\n",
    "\n",
    "import tensorflow as tf\n",
    "from tensorflow.keras.models import Sequential\n",
    "from tensorflow.keras.layers import LSTM, Dense, Dropout\n",
    "from tensorflow.keras.optimizers import Adam\n",
    "from tensorflow.keras.callbacks import EarlyStopping, ModelCheckpoint\n",
    "\n",
    "input_shape = (window_size, 5)\n",
    "\n",
    "model = Sequential([\n",
    "    LSTM(128, return_sequences=True, input_shape=input_shape),\n",
    "    Dropout(0.3),\n",
    "    LSTM(128, return_sequences=True),\n",
    "    Dense(Y_train.shape[-1], activation='sigmoid')\n",
    "])\n",
    "\n",
    "model.compile(optimizer='adam', loss='binary_crossentropy', metrics=['accuracy'])\n",
    "model.summary()\n",
    "\n",
    "early_stopping = EarlyStopping(monitor='val_loss', patience=10, restore_best_weights=True)\n",
    "model_checkpoint = ModelCheckpoint('best_model.h5', save_best_only=True, monitor='val_loss')\n",
    "\n",
    "model.fit(X_train, Y_train, epochs=30, validation_data=(X_val, Y_val), batch_size=32, callbacks=[early_stopping, model_checkpoint])\n",
    "\n",
    "results = model.evaluate(X_test, Y_test)\n",
    "print(f\"Test Loss: {results[0]}, Test Accuracy: {results[1]}\")"
   ]
  },
  {
   "cell_type": "code",
   "execution_count": 27,
   "metadata": {},
   "outputs": [
    {
     "name": "stdout",
     "output_type": "stream",
     "text": [
      "31/31 [==============================] - 4s 48ms/step\n"
     ]
    }
   ],
   "source": [
    "predictions = model.predict(X_test)\n",
    "\n",
    "# threshold of 0.5 to convert probabilities to binary outputs\n",
    "y_pred = (predictions > 0.5).astype(int)"
   ]
  },
  {
   "cell_type": "code",
   "execution_count": 28,
   "metadata": {},
   "outputs": [],
   "source": [
    "# Convert predictions to a DataFrame\n",
    "y_pred_df = pd.DataFrame(y_pred.reshape(y_pred.shape[0] * y_pred.shape[1], y_pred.shape[2]), columns=Y.columns)\n",
    "Y_test_df = pd.DataFrame(Y_test.reshape(Y_test.shape[0] * Y_test.shape[1], Y_test.shape[2]), columns=Y.columns)\n",
    "\n",
    "def reverse_one_hot(df):\n",
    "    result = pd.DataFrame()\n",
    "    for col in df.columns:\n",
    "        if '_0' in col:\n",
    "            base_col = col.rsplit('_', 1)[0]\n",
    "            one_hot_df = df.filter(like=base_col)\n",
    "            result[base_col] = one_hot_df.idxmax(axis=1).apply(lambda x: int(x.rsplit('_', 1)[1]))\n",
    "    return result\n",
    "\n",
    "# Reverse one-hot encoding\n",
    "y_pred = reverse_one_hot(y_pred_df)\n",
    "Y_test = reverse_one_hot(Y_test_df)\n",
    "\n",
    "Y_test.columns=columns_to_encode\n",
    "y_pred.columns=columns_to_encode"
   ]
  },
  {
   "cell_type": "code",
   "execution_count": 29,
   "metadata": {},
   "outputs": [
    {
     "name": "stdout",
     "output_type": "stream",
     "text": [
      "Exact Match Accuracy: 99.48%\n",
      "Hamming Accuracy for Label 1 (kettle): 99.97%\n",
      "Hamming Accuracy for Label 2 (rice_cooker): 99.96%\n",
      "Hamming Accuracy for Label 3 (washing_machine): 99.80%\n",
      "Hamming Accuracy for Label 4 (dish_washer): 99.89%\n",
      "Hamming Accuracy for Label 5 (microwave): 99.80%\n",
      "Hamming Accuracy for Label 6 (toaster): 99.97%\n",
      "Overall Hamming Accuracy: 99.90%\n"
     ]
    }
   ],
   "source": [
    "Y_test_np = Y_test.to_numpy().astype(int)\n",
    "y_pred_np = y_pred.to_numpy().astype(int)\n",
    "\n",
    "def exact_match_accuracy(true, pred):\n",
    "    true = np.array(true)\n",
    "    pred = np.array(pred)\n",
    "    exact_matches = np.all(true == pred, axis=1)\n",
    "    accuracy = np.mean(exact_matches)\n",
    "    return accuracy\n",
    "\n",
    "# accuracy\n",
    "exact_accuracy = exact_match_accuracy(Y_test_np, y_pred_np)\n",
    "print(f\"Exact Match Accuracy: {exact_accuracy:.2%}\")\n",
    "\n",
    "mismatches = Y_test_np != y_pred_np\n",
    "hamming_losses = mismatches.mean(axis=0)\n",
    "hamming_accuracies = 1 - hamming_losses\n",
    "\n",
    "# Hamming accuracy for each label\n",
    "for i, accuracy in enumerate(hamming_accuracies):\n",
    "    print(f\"Hamming Accuracy for Label {i+1} ({Y_test.columns[i]}): {accuracy:.2%}\")\n",
    "\n",
    "# overall Hamming accuracy\n",
    "overall_hamming_accuracy = 1 - np.mean(hamming_losses)\n",
    "print(f\"Overall Hamming Accuracy: {overall_hamming_accuracy:.2%}\")"
   ]
  },
  {
   "cell_type": "code",
   "execution_count": 30,
   "metadata": {},
   "outputs": [
    {
     "name": "stdout",
     "output_type": "stream",
     "text": [
      "Classification Report for each target:\n",
      "\n",
      "Classification Report for kettle:\n",
      "              precision    recall  f1-score   support\n",
      "\n",
      "           0       1.00      1.00      1.00     58809\n",
      "           1       0.00      0.00      0.00         7\n",
      "           2       0.98      0.99      0.99       404\n",
      "\n",
      "    accuracy                           1.00     59220\n",
      "   macro avg       0.66      0.66      0.66     59220\n",
      "weighted avg       1.00      1.00      1.00     59220\n",
      "\n",
      "\n",
      "Classification Report for rice_cooker:\n",
      "              precision    recall  f1-score   support\n",
      "\n",
      "           0       1.00      1.00      1.00     58853\n",
      "           1       0.96      0.94      0.95       194\n",
      "           2       0.99      0.98      0.99       173\n",
      "\n",
      "    accuracy                           1.00     59220\n",
      "   macro avg       0.98      0.97      0.98     59220\n",
      "weighted avg       1.00      1.00      1.00     59220\n",
      "\n",
      "\n",
      "Classification Report for washing_machine:\n",
      "              precision    recall  f1-score   support\n",
      "\n",
      "           0       1.00      1.00      1.00     58627\n",
      "           1       0.94      0.82      0.87       336\n",
      "           2       0.97      0.74      0.84        76\n",
      "           3       0.92      0.91      0.91       181\n",
      "\n",
      "    accuracy                           1.00     59220\n",
      "   macro avg       0.96      0.86      0.90     59220\n",
      "weighted avg       1.00      1.00      1.00     59220\n",
      "\n",
      "\n",
      "Classification Report for dish_washer:\n",
      "              precision    recall  f1-score   support\n",
      "\n",
      "           0       1.00      1.00      1.00     57770\n",
      "           1       1.00      0.93      0.96       414\n",
      "           2       0.99      0.97      0.98      1035\n",
      "           3       0.00      0.00      0.00         1\n",
      "\n",
      "    accuracy                           1.00     59220\n",
      "   macro avg       0.75      0.73      0.74     59220\n",
      "weighted avg       1.00      1.00      1.00     59220\n",
      "\n",
      "\n",
      "Classification Report for microwave:\n",
      "              precision    recall  f1-score   support\n",
      "\n",
      "           0       1.00      1.00      1.00     58566\n",
      "           1       1.00      0.87      0.93       415\n",
      "           2       0.00      0.00      0.00         6\n",
      "           3       0.93      0.81      0.86       232\n",
      "           4       0.00      0.00      0.00         1\n",
      "\n",
      "    accuracy                           1.00     59220\n",
      "   macro avg       0.59      0.54      0.56     59220\n",
      "weighted avg       1.00      1.00      1.00     59220\n",
      "\n",
      "\n",
      "Classification Report for toaster:\n",
      "              precision    recall  f1-score   support\n",
      "\n",
      "           0       1.00      1.00      1.00     59202\n",
      "           1       0.00      0.00      0.00        18\n",
      "\n",
      "    accuracy                           1.00     59220\n",
      "   macro avg       0.50      0.50      0.50     59220\n",
      "weighted avg       1.00      1.00      1.00     59220\n",
      "\n"
     ]
    }
   ],
   "source": [
    "from sklearn.metrics import classification_report\n",
    "\n",
    "print(\"Classification Report for each target:\")\n",
    "for column in Y_test.columns:\n",
    "    print(f\"\\nClassification Report for {column}:\")\n",
    "    print(classification_report(Y_test[column], y_pred[column], zero_division=0))\n"
   ]
  },
  {
   "cell_type": "code",
   "execution_count": 32,
   "metadata": {},
   "outputs": [
    {
     "data": {
      "image/png": "[encoded data removed]",
      "text/plain": [
       "<Figure size 1000x600 with 1 Axes>"
      ]
     },
     "metadata": {},
     "output_type": "display_data"
    }
   ],
   "source": [
    "import matplotlib.pyplot as plt\n",
    "import numpy as np\n",
    "from matplotlib.lines import Line2D\n",
    "\n",
    "#  Choose device number for visualization\n",
    "device = 3\n",
    "n_samples =  49345\n",
    "\n",
    "plt.figure(figsize=(10, 6))\n",
    "plt.subplot(2, 1, 1)\n",
    "y_pred = pd.DataFrame(y_pred)\n",
    "\n",
    "colors = np.array(['green' if int(a) == int(b) else 'red' for a, b in zip(y_pred.iloc[:n_samples, device], Y_test.iloc[:n_samples, device])])\n",
    "\n",
    "x_indices = Y_test.index[:n_samples]\n",
    "\n",
    "scatter = plt.scatter(x_indices, Y_test.iloc[:n_samples, device].astype(int),\n",
    "                      c=colors, alpha=0.5, s=5)\n",
    "\n",
    "plt.yticks(np.arange(min(Y_test.iloc[:n_samples, device].astype(int)), max(Y_test.iloc[:n_samples, device].astype(int)) + 1))\n",
    "\n",
    "legend_elements = [Line2D([0], [0], marker='o', color='w', label='Match',\n",
    "                          markerfacecolor='green', markersize=10),\n",
    "                   Line2D([0], [0], marker='o', color='w', label='Mismatch',\n",
    "                          markerfacecolor='red', markersize=10)]\n",
    "plt.legend(handles=legend_elements, loc='upper right')\n",
    "\n",
    "plt.ylabel('State', fontsize=15)\n",
    "plt.xlabel('Time (Minutes)', fontsize=15)\n",
    "\n",
    "plt.tight_layout()\n",
    "plt.show()"
   ]
  }
 ],
 "metadata": {
  "kernelspec": {
   "display_name": "Python 3",
   "language": "python",
   "name": "python3"
  },
  "language_info": {
   "codemirror_mode": {
    "name": "ipython",
    "version": 3
   },
   "file_extension": ".py",
   "mimetype": "text/x-python",
   "name": "python",
   "nbconvert_exporter": "python",
   "pygments_lexer": "ipython3",
   "version": "3.11.5"
  }
 },
 "nbformat": 4,
 "nbformat_minor": 2
}

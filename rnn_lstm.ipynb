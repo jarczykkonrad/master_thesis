{
 "cells": [
  {
   "cell_type": "code",
   "execution_count": 1,
   "metadata": {},
   "outputs": [],
   "source": [
    "# Loading\n",
    "\n",
    "import pandas as pd\n",
    "df_combined = pd.read_parquet('parquets/house5/df_combined1')"
   ]
  },
  {
   "cell_type": "markdown",
   "metadata": {},
   "source": [
    "<h3><center><b>RNN / LSTM</b></center></h3>\n",
    "<hr>"
   ]
  },
  {
   "cell_type": "code",
   "execution_count": 2,
   "metadata": {},
   "outputs": [],
   "source": [
    "# trimming for full days, need for windowing\n",
    "import pandas as pd\n",
    "\n",
    "def trim_data_to_full_days(data):\n",
    "    if not isinstance(data.index, pd.DatetimeIndex):\n",
    "        if 'timestamp' in data.columns:\n",
    "            data['timestamp'] = pd.to_datetime(data['timestamp'])\n",
    "            data.set_index('timestamp', inplace=True)\n",
    "        else:\n",
    "            raise ValueError(\"Dataframe must have a 'timestamp' column or DatetimeIndex.\")\n",
    "\n",
    "    data = data.sort_index()\n",
    "    first_full_day = data.index.ceil('D')[0]\n",
    "    last_full_day = data.index.floor('D')[-1]\n",
    "\n",
    "    trimmed_data = data[first_full_day:last_full_day]\n",
    "    return trimmed_data\n",
    "\n",
    "df_combined = trim_data_to_full_days(df_combined)"
   ]
  },
  {
   "cell_type": "code",
   "execution_count": 3,
   "metadata": {},
   "outputs": [],
   "source": [
    "for col in df_combined.columns:\n",
    "    df_combined[col] = pd.to_numeric(df_combined[col], errors='coerce')"
   ]
  },
  {
   "cell_type": "code",
   "execution_count": 4,
   "metadata": {},
   "outputs": [],
   "source": [
    "# df_combined.drop('timestamp', axis=1, inplace=True)\n",
    "X = df_combined[['what_hour', 'what_day', 'is_weekend', 'aggregate', 'agg_clustered']]\n",
    "\n",
    "Y_columns = df_combined.columns.difference(X.columns)\n",
    "Y = df_combined[Y_columns]"
   ]
  },
  {
   "cell_type": "code",
   "execution_count": 5,
   "metadata": {},
   "outputs": [],
   "source": [
    "# one-hot encoding\n",
    "\n",
    "columns_to_encode = [ 'hairdryer', '24_inch_lcd_bedroom', 'kettle', 'oven', 'dishwasher', 'washer_dryer']\n",
    "\n",
    "Y= pd.get_dummies(Y, columns=columns_to_encode)\n",
    "Y = Y.astype(int)"
   ]
  },
  {
   "cell_type": "code",
   "execution_count": 6,
   "metadata": {},
   "outputs": [],
   "source": [
    "from sklearn.preprocessing import StandardScaler\n",
    "scaler = StandardScaler()\n",
    "\n",
    "# normalize input\n",
    "X_scaled= scaler.fit_transform(X)\n"
   ]
  },
  {
   "cell_type": "code",
   "execution_count": 7,
   "metadata": {},
   "outputs": [
    {
     "name": "stdout",
     "output_type": "stream",
     "text": [
      "(6527, 60, 5)\n",
      "(6527, 60, 22)\n"
     ]
    }
   ],
   "source": [
    "import numpy as np\n",
    "\n",
    "def sliding_window(data, size, step):\n",
    "    num_windows = 1 + (len(data) - size) // step\n",
    "    windows = [data[i * step:i * step + size] for i in range(num_windows)]\n",
    "    return np.array(windows)\n",
    "\n",
    "\n",
    "window_size = 60\n",
    "step_size = 30\n",
    "\n",
    "X_windowed = sliding_window(X_scaled, window_size, step_size)\n",
    "Y_windowed = sliding_window(Y, window_size, step_size)\n",
    "\n",
    "print(X_windowed.shape)\n",
    "print(Y_windowed.shape)"
   ]
  },
  {
   "cell_type": "code",
   "execution_count": 8,
   "metadata": {},
   "outputs": [
    {
     "name": "stdout",
     "output_type": "stream",
     "text": [
      "WARNING:tensorflow:From c:\\Python311\\Lib\\site-packages\\keras\\src\\losses.py:2976: The name tf.losses.sparse_softmax_cross_entropy is deprecated. Please use tf.compat.v1.losses.sparse_softmax_cross_entropy instead.\n",
      "\n"
     ]
    }
   ],
   "source": [
    "import tensorflow as tf\n",
    "from sklearn.model_selection import train_test_split\n",
    "\n",
    "X_train_val, X_test = train_test_split(X_windowed, test_size=0.15, random_state=42)\n",
    "X_train, X_val = train_test_split(X_train_val, test_size=0.15/0.85, random_state=42)\n",
    "\n",
    "Y_train_val, Y_test = train_test_split(Y_windowed, test_size=0.15, random_state=42)\n",
    "Y_train, Y_val = train_test_split(Y_train_val, test_size=0.15/0.85, random_state=42)"
   ]
  },
  {
   "cell_type": "code",
   "execution_count": 9,
   "metadata": {},
   "outputs": [
    {
     "name": "stdout",
     "output_type": "stream",
     "text": [
      "X_train shape: (4568, 60, 5)\n",
      "X_val shape: (979, 60, 5)\n",
      "X_test shape: (980, 60, 5)\n",
      "Y_train shape: (4568, 60, 22)\n",
      "Y_val shape: (979, 60, 22)\n",
      "Y_test shape: (980, 60, 22)\n"
     ]
    }
   ],
   "source": [
    "print(f\"X_train shape: {X_train.shape}\")\n",
    "print(f\"X_val shape: {X_val.shape}\")\n",
    "print(f\"X_test shape: {X_test.shape}\")\n",
    "print(f\"Y_train shape: {Y_train.shape}\")\n",
    "print(f\"Y_val shape: {Y_val.shape}\")\n",
    "print(f\"Y_test shape: {Y_test.shape}\")"
   ]
  },
  {
   "cell_type": "code",
   "execution_count": 10,
   "metadata": {},
   "outputs": [
    {
     "name": "stdout",
     "output_type": "stream",
     "text": [
      "WARNING:tensorflow:From c:\\Python311\\Lib\\site-packages\\keras\\src\\layers\\rnn\\lstm.py:148: The name tf.executing_eagerly_outside_functions is deprecated. Please use tf.compat.v1.executing_eagerly_outside_functions instead.\n",
      "\n",
      "WARNING:tensorflow:From c:\\Python311\\Lib\\site-packages\\keras\\src\\optimizers\\__init__.py:309: The name tf.train.Optimizer is deprecated. Please use tf.compat.v1.train.Optimizer instead.\n",
      "\n",
      "Model: \"sequential\"\n",
      "_________________________________________________________________\n",
      " Layer (type)                Output Shape              Param #   \n",
      "=================================================================\n",
      " lstm (LSTM)                 (None, 60, 128)           68608     \n",
      "                                                                 \n",
      " dropout (Dropout)           (None, 60, 128)           0         \n",
      "                                                                 \n",
      " lstm_1 (LSTM)               (None, 60, 128)           131584    \n",
      "                                                                 \n",
      " dense (Dense)               (None, 60, 22)            2838      \n",
      "                                                                 \n",
      "=================================================================\n",
      "Total params: 203030 (793.09 KB)\n",
      "Trainable params: 203030 (793.09 KB)\n",
      "Non-trainable params: 0 (0.00 Byte)\n",
      "_________________________________________________________________\n",
      "Epoch 1/30\n",
      "WARNING:tensorflow:From c:\\Python311\\Lib\\site-packages\\keras\\src\\utils\\tf_utils.py:492: The name tf.ragged.RaggedTensorValue is deprecated. Please use tf.compat.v1.ragged.RaggedTensorValue instead.\n",
      "\n",
      "WARNING:tensorflow:From c:\\Python311\\Lib\\site-packages\\keras\\src\\engine\\base_layer_utils.py:384: The name tf.executing_eagerly_outside_functions is deprecated. Please use tf.compat.v1.executing_eagerly_outside_functions instead.\n",
      "\n",
      "143/143 [==============================] - 24s 128ms/step - loss: 0.1259 - accuracy: 0.3937 - val_loss: 0.0506 - val_accuracy: 0.4170\n",
      "Epoch 2/30\n"
     ]
    },
    {
     "name": "stderr",
     "output_type": "stream",
     "text": [
      "c:\\Python311\\Lib\\site-packages\\keras\\src\\engine\\training.py:3103: UserWarning: You are saving your model as an HDF5 file via `model.save()`. This file format is considered legacy. We recommend using instead the native Keras format, e.g. `model.save('my_model.keras')`.\n",
      "  saving_api.save_model(\n"
     ]
    },
    {
     "name": "stdout",
     "output_type": "stream",
     "text": [
      "143/143 [==============================] - 16s 115ms/step - loss: 0.0452 - accuracy: 0.2387 - val_loss: 0.0373 - val_accuracy: 0.2244\n",
      "Epoch 3/30\n",
      "143/143 [==============================] - 19s 132ms/step - loss: 0.0366 - accuracy: 0.2539 - val_loss: 0.0306 - val_accuracy: 0.1763\n",
      "Epoch 4/30\n",
      "143/143 [==============================] - 17s 120ms/step - loss: 0.0317 - accuracy: 0.2578 - val_loss: 0.0276 - val_accuracy: 0.1439\n",
      "Epoch 5/30\n",
      "143/143 [==============================] - 16s 112ms/step - loss: 0.0284 - accuracy: 0.3617 - val_loss: 0.0248 - val_accuracy: 0.0530\n",
      "Epoch 6/30\n",
      "143/143 [==============================] - 15s 106ms/step - loss: 0.0260 - accuracy: 0.1271 - val_loss: 0.0225 - val_accuracy: 0.1760\n",
      "Epoch 7/30\n",
      "143/143 [==============================] - 15s 105ms/step - loss: 0.0238 - accuracy: 0.1705 - val_loss: 0.0205 - val_accuracy: 0.0960\n",
      "Epoch 8/30\n",
      "143/143 [==============================] - 15s 105ms/step - loss: 0.0223 - accuracy: 0.0690 - val_loss: 0.0198 - val_accuracy: 0.0880\n",
      "Epoch 9/30\n",
      "143/143 [==============================] - 15s 104ms/step - loss: 0.0206 - accuracy: 0.0757 - val_loss: 0.0181 - val_accuracy: 0.0810\n",
      "Epoch 10/30\n",
      "143/143 [==============================] - 15s 108ms/step - loss: 0.0192 - accuracy: 0.0572 - val_loss: 0.0187 - val_accuracy: 0.0302\n",
      "Epoch 11/30\n",
      "143/143 [==============================] - 16s 109ms/step - loss: 0.0187 - accuracy: 0.0436 - val_loss: 0.0161 - val_accuracy: 0.0249\n",
      "Epoch 12/30\n",
      "143/143 [==============================] - 16s 113ms/step - loss: 0.0178 - accuracy: 0.0657 - val_loss: 0.0158 - val_accuracy: 0.0573\n",
      "Epoch 13/30\n",
      "143/143 [==============================] - 18s 127ms/step - loss: 0.0166 - accuracy: 0.1035 - val_loss: 0.0145 - val_accuracy: 0.0501\n",
      "Epoch 14/30\n",
      "143/143 [==============================] - 16s 111ms/step - loss: 0.0161 - accuracy: 0.1228 - val_loss: 0.0140 - val_accuracy: 0.1223\n",
      "Epoch 15/30\n",
      "143/143 [==============================] - 16s 110ms/step - loss: 0.0153 - accuracy: 0.1739 - val_loss: 0.0136 - val_accuracy: 0.2151\n",
      "Epoch 16/30\n",
      "143/143 [==============================] - 16s 114ms/step - loss: 0.0149 - accuracy: 0.1979 - val_loss: 0.0145 - val_accuracy: 0.2144\n",
      "Epoch 17/30\n",
      "143/143 [==============================] - 16s 115ms/step - loss: 0.0144 - accuracy: 0.2374 - val_loss: 0.0135 - val_accuracy: 0.3369\n",
      "Epoch 18/30\n",
      "143/143 [==============================] - 15s 107ms/step - loss: 0.0140 - accuracy: 0.3643 - val_loss: 0.0124 - val_accuracy: 0.3306\n",
      "Epoch 19/30\n",
      "143/143 [==============================] - 15s 107ms/step - loss: 0.0134 - accuracy: 0.3648 - val_loss: 0.0121 - val_accuracy: 0.3636\n",
      "Epoch 20/30\n",
      "143/143 [==============================] - 15s 108ms/step - loss: 0.0130 - accuracy: 0.3418 - val_loss: 0.0119 - val_accuracy: 0.3346\n",
      "Epoch 21/30\n",
      "143/143 [==============================] - 15s 108ms/step - loss: 0.0126 - accuracy: 0.3299 - val_loss: 0.0119 - val_accuracy: 0.3066\n",
      "Epoch 22/30\n",
      "143/143 [==============================] - 17s 116ms/step - loss: 0.0125 - accuracy: 0.2906 - val_loss: 0.0119 - val_accuracy: 0.3282\n",
      "Epoch 23/30\n",
      "143/143 [==============================] - 16s 114ms/step - loss: 0.0121 - accuracy: 0.3549 - val_loss: 0.0116 - val_accuracy: 0.3230\n",
      "Epoch 24/30\n",
      "143/143 [==============================] - 16s 111ms/step - loss: 0.0115 - accuracy: 0.3203 - val_loss: 0.0103 - val_accuracy: 0.3221\n",
      "Epoch 25/30\n",
      "143/143 [==============================] - 16s 112ms/step - loss: 0.0112 - accuracy: 0.3322 - val_loss: 0.0102 - val_accuracy: 0.2799\n",
      "Epoch 26/30\n",
      "143/143 [==============================] - 16s 111ms/step - loss: 0.0108 - accuracy: 0.3433 - val_loss: 0.0114 - val_accuracy: 0.3216\n",
      "Epoch 27/30\n",
      "143/143 [==============================] - 15s 108ms/step - loss: 0.0111 - accuracy: 0.3285 - val_loss: 0.0116 - val_accuracy: 0.4447\n",
      "Epoch 28/30\n",
      "143/143 [==============================] - 15s 107ms/step - loss: 0.0104 - accuracy: 0.3534 - val_loss: 0.0102 - val_accuracy: 0.3748\n",
      "Epoch 29/30\n",
      "143/143 [==============================] - 15s 108ms/step - loss: 0.0102 - accuracy: 0.3488 - val_loss: 0.0095 - val_accuracy: 0.4334\n",
      "Epoch 30/30\n",
      "143/143 [==============================] - 16s 114ms/step - loss: 0.0099 - accuracy: 0.3359 - val_loss: 0.0103 - val_accuracy: 0.3609\n",
      "31/31 [==============================] - 1s 45ms/step - loss: 0.0115 - accuracy: 0.3671\n",
      "Test Loss: 0.011541713960468769, Test Accuracy: 0.3670918345451355\n"
     ]
    }
   ],
   "source": [
    "# RNN / LSTM for one hot encoded data\n",
    "\n",
    "import tensorflow as tf\n",
    "from tensorflow.keras.models import Sequential\n",
    "from tensorflow.keras.layers import LSTM, Dense, Dropout\n",
    "from tensorflow.keras.optimizers import Adam\n",
    "from tensorflow.keras.callbacks import EarlyStopping, ModelCheckpoint\n",
    "\n",
    "input_shape = (window_size, 5)\n",
    "\n",
    "model = Sequential([\n",
    "    LSTM(128, return_sequences=True, input_shape=input_shape),\n",
    "    Dropout(0.3),\n",
    "    LSTM(128, return_sequences=True),\n",
    "    Dense(Y_train.shape[-1], activation='sigmoid')\n",
    "])\n",
    "\n",
    "model.compile(optimizer='adam', loss='binary_crossentropy', metrics=['accuracy'])\n",
    "model.summary()\n",
    "\n",
    "early_stopping = EarlyStopping(monitor='val_loss', patience=10, restore_best_weights=True)\n",
    "model_checkpoint = ModelCheckpoint('best_model.h5', save_best_only=True, monitor='val_loss')\n",
    "\n",
    "model.fit(X_train, Y_train, epochs=30, validation_data=(X_val, Y_val), batch_size=32, callbacks=[early_stopping, model_checkpoint])\n",
    "\n",
    "results = model.evaluate(X_test, Y_test)\n",
    "print(f\"Test Loss: {results[0]}, Test Accuracy: {results[1]}\")"
   ]
  },
  {
   "cell_type": "code",
   "execution_count": 11,
   "metadata": {},
   "outputs": [
    {
     "name": "stdout",
     "output_type": "stream",
     "text": [
      "31/31 [==============================] - 3s 45ms/step\n"
     ]
    }
   ],
   "source": [
    "predictions = model.predict(X_test)\n",
    "\n",
    "# threshold of 0.5 to convert probabilities to binary outputs\n",
    "y_pred = (predictions > 0.5).astype(int)"
   ]
  },
  {
   "cell_type": "code",
   "execution_count": 12,
   "metadata": {},
   "outputs": [],
   "source": [
    "# Convert predictions to a DataFrame\n",
    "y_pred_df = pd.DataFrame(y_pred.reshape(y_pred.shape[0] * y_pred.shape[1], y_pred.shape[2]), columns=Y.columns)\n",
    "Y_test_df = pd.DataFrame(Y_test.reshape(Y_test.shape[0] * Y_test.shape[1], Y_test.shape[2]), columns=Y.columns)\n",
    "\n",
    "def reverse_one_hot(df):\n",
    "    result = pd.DataFrame()\n",
    "    for col in df.columns:\n",
    "        if '_0' in col:\n",
    "            base_col = col.rsplit('_', 1)[0]\n",
    "            one_hot_df = df.filter(like=base_col)\n",
    "            result[base_col] = one_hot_df.idxmax(axis=1).apply(lambda x: int(x.rsplit('_', 1)[1]))\n",
    "    return result\n",
    "\n",
    "# Reverse one-hot encoding\n",
    "y_pred = reverse_one_hot(y_pred_df)\n",
    "Y_test = reverse_one_hot(Y_test_df)\n",
    "\n",
    "Y_test.columns=columns_to_encode\n",
    "y_pred.columns=columns_to_encode"
   ]
  },
  {
   "cell_type": "code",
   "execution_count": 13,
   "metadata": {},
   "outputs": [
    {
     "name": "stdout",
     "output_type": "stream",
     "text": [
      "Exact Match Accuracy: 95.91%\n",
      "Hamming Accuracy for Label 1 (hairdryer): 99.96%\n",
      "Hamming Accuracy for Label 2 (24_inch_lcd_bedroom): 97.63%\n",
      "Hamming Accuracy for Label 3 (kettle): 99.90%\n",
      "Hamming Accuracy for Label 4 (oven): 99.43%\n",
      "Hamming Accuracy for Label 5 (dishwasher): 99.11%\n",
      "Hamming Accuracy for Label 6 (washer_dryer): 99.10%\n",
      "Overall Hamming Accuracy: 99.19%\n"
     ]
    }
   ],
   "source": [
    "Y_test_np = Y_test.to_numpy().astype(int)\n",
    "y_pred_np = y_pred.to_numpy().astype(int)\n",
    "\n",
    "def exact_match_accuracy(true, pred):\n",
    "    true = np.array(true)\n",
    "    pred = np.array(pred)\n",
    "    exact_matches = np.all(true == pred, axis=1)\n",
    "    accuracy = np.mean(exact_matches)\n",
    "    return accuracy\n",
    "\n",
    "# accuracy\n",
    "exact_accuracy = exact_match_accuracy(Y_test_np, y_pred_np)\n",
    "print(f\"Exact Match Accuracy: {exact_accuracy:.2%}\")\n",
    "\n",
    "mismatches = Y_test_np != y_pred_np\n",
    "hamming_losses = mismatches.mean(axis=0)\n",
    "hamming_accuracies = 1 - hamming_losses\n",
    "\n",
    "# Hamming accuracy for each label\n",
    "for i, accuracy in enumerate(hamming_accuracies):\n",
    "    print(f\"Hamming Accuracy for Label {i+1} ({Y_test.columns[i]}): {accuracy:.2%}\")\n",
    "\n",
    "# overall Hamming accuracy\n",
    "overall_hamming_accuracy = 1 - np.mean(hamming_losses)\n",
    "print(f\"Overall Hamming Accuracy: {overall_hamming_accuracy:.2%}\")"
   ]
  },
  {
   "cell_type": "code",
   "execution_count": 14,
   "metadata": {},
   "outputs": [
    {
     "name": "stdout",
     "output_type": "stream",
     "text": [
      "Classification Report for each target:\n",
      "\n",
      "Classification Report for hairdryer:\n",
      "              precision    recall  f1-score   support\n",
      "\n",
      "           0       1.00      1.00      1.00     58693\n",
      "           1       0.00      0.00      0.00         4\n",
      "           2       0.96      0.84      0.90       103\n",
      "\n",
      "    accuracy                           1.00     58800\n",
      "   macro avg       0.65      0.61      0.63     58800\n",
      "weighted avg       1.00      1.00      1.00     58800\n",
      "\n",
      "\n",
      "Classification Report for 24_inch_lcd_bedroom:\n",
      "              precision    recall  f1-score   support\n",
      "\n",
      "           0       0.98      1.00      0.99     56641\n",
      "           1       0.83      0.45      0.58      2159\n",
      "\n",
      "    accuracy                           0.98     58800\n",
      "   macro avg       0.90      0.72      0.78     58800\n",
      "weighted avg       0.97      0.98      0.97     58800\n",
      "\n",
      "\n",
      "Classification Report for kettle:\n",
      "              precision    recall  f1-score   support\n",
      "\n",
      "           0       1.00      1.00      1.00     58693\n",
      "           1       0.87      0.51      0.65       107\n",
      "\n",
      "    accuracy                           1.00     58800\n",
      "   macro avg       0.94      0.76      0.82     58800\n",
      "weighted avg       1.00      1.00      1.00     58800\n",
      "\n",
      "\n",
      "Classification Report for oven:\n",
      "              precision    recall  f1-score   support\n",
      "\n",
      "           0       1.00      1.00      1.00     57679\n",
      "           1       0.92      0.81      0.86       409\n",
      "           2       0.91      0.74      0.82       581\n",
      "           3       0.87      0.56      0.69       131\n",
      "\n",
      "    accuracy                           0.99     58800\n",
      "   macro avg       0.92      0.78      0.84     58800\n",
      "weighted avg       0.99      0.99      0.99     58800\n",
      "\n",
      "\n",
      "Classification Report for dishwasher:\n",
      "              precision    recall  f1-score   support\n",
      "\n",
      "           0       0.99      1.00      1.00     57496\n",
      "           1       0.00      0.00      0.00        71\n",
      "           2       0.81      0.55      0.65       700\n",
      "           4       0.94      0.90      0.92       533\n",
      "\n",
      "    accuracy                           0.99     58800\n",
      "   macro avg       0.69      0.61      0.64     58800\n",
      "weighted avg       0.99      0.99      0.99     58800\n",
      "\n",
      "\n",
      "Classification Report for washer_dryer:\n",
      "              precision    recall  f1-score   support\n",
      "\n",
      "           0       0.99      1.00      1.00     56218\n",
      "           1       0.93      0.81      0.87      1237\n",
      "           2       0.98      0.93      0.95       682\n",
      "           3       0.97      0.85      0.91       571\n",
      "           4       0.00      0.00      0.00        92\n",
      "\n",
      "    accuracy                           0.99     58800\n",
      "   macro avg       0.77      0.72      0.74     58800\n",
      "weighted avg       0.99      0.99      0.99     58800\n",
      "\n"
     ]
    }
   ],
   "source": [
    "from sklearn.metrics import classification_report\n",
    "\n",
    "print(\"Classification Report for each target:\")\n",
    "for column in Y_test.columns:\n",
    "    print(f\"\\nClassification Report for {column}:\")\n",
    "    print(classification_report(Y_test[column], y_pred[column], zero_division=0))\n"
   ]
  },
  {
   "cell_type": "code",
   "execution_count": 16,
   "metadata": {},
   "outputs": [
    {
     "data": {
      "image/png": "[encoded data removed]",
      "text/plain": [
       "<Figure size 1000x600 with 1 Axes>"
      ]
     },
     "metadata": {},
     "output_type": "display_data"
    }
   ],
   "source": [
    "import matplotlib.pyplot as plt\n",
    "import numpy as np\n",
    "from matplotlib.lines import Line2D\n",
    "\n",
    "#  example\n",
    "device = 5\n",
    "n_samples =  49345\n",
    "\n",
    "plt.figure(figsize=(10, 6))\n",
    "plt.subplot(2, 1, 1)\n",
    "y_pred = pd.DataFrame(y_pred)\n",
    "\n",
    "colors = np.array(['green' if int(a) == int(b) else 'red' for a, b in zip(y_pred.iloc[:n_samples, device], Y_test.iloc[:n_samples, device])])\n",
    "\n",
    "x_indices = Y_test.index[:n_samples]\n",
    "\n",
    "scatter = plt.scatter(x_indices, Y_test.iloc[:n_samples, device].astype(int),\n",
    "                      c=colors, alpha=0.5, s=5)\n",
    "\n",
    "plt.yticks(np.arange(min(Y_test.iloc[:n_samples, device].astype(int)), max(Y_test.iloc[:n_samples, device].astype(int)) + 1))\n",
    "\n",
    "legend_elements = [Line2D([0], [0], marker='o', color='w', label='Match',\n",
    "                          markerfacecolor='green', markersize=10),\n",
    "                   Line2D([0], [0], marker='o', color='w', label='Mismatch',\n",
    "                          markerfacecolor='red', markersize=10)]\n",
    "plt.legend(handles=legend_elements, loc='upper right')\n",
    "\n",
    "# plt.title('Actual vs. Predicted States')\n",
    "plt.ylabel('State')\n",
    "plt.xlabel('Timeline')\n",
    "\n",
    "plt.tight_layout()\n",
    "plt.show()"
   ]
  }
 ],
 "metadata": {
  "kernelspec": {
   "display_name": "Python 3",
   "language": "python",
   "name": "python3"
  },
  "language_info": {
   "codemirror_mode": {
    "name": "ipython",
    "version": 3
   },
   "file_extension": ".py",
   "mimetype": "text/x-python",
   "name": "python",
   "nbconvert_exporter": "python",
   "pygments_lexer": "ipython3",
   "version": "3.11.5"
  }
 },
 "nbformat": 4,
 "nbformat_minor": 2
}

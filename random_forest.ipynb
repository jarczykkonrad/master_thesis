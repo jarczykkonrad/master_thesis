{
 "cells": [
  {
   "cell_type": "code",
   "execution_count": 1,
   "metadata": {},
   "outputs": [],
   "source": [
    "# Loading\n",
    "\n",
    "import pandas as pd\n",
    "df_combined = pd.read_parquet('parquets/house5/df_combined1') # Choose Paquet with dataframe"
   ]
  },
  {
   "cell_type": "code",
   "execution_count": 2,
   "metadata": {},
   "outputs": [],
   "source": [
    "for col in df_combined.columns:\n",
    "    df_combined[col] = pd.to_numeric(df_combined[col], errors='coerce')"
   ]
  },
  {
   "cell_type": "code",
   "execution_count": 3,
   "metadata": {},
   "outputs": [
    {
     "name": "stdout",
     "output_type": "stream",
     "text": [
      "Device: hairdryer, Unique States: [0 2 1 3], Number of States: 4\n",
      "Device: 24_inch_lcd_bedroom, Unique States: [0 1], Number of States: 2\n",
      "Device: kettle, Unique States: [0 1], Number of States: 2\n",
      "Device: oven, Unique States: [0 2 1 3], Number of States: 4\n",
      "Device: dishwasher, Unique States: [0 1 4 2 3], Number of States: 5\n",
      "Device: washer_dryer, Unique States: [1 3 0 2 4], Number of States: 5\n"
     ]
    }
   ],
   "source": [
    "# Choose devices for running in ml\n",
    "\n",
    "device_columns = [ 'hairdryer', '24_inch_lcd_bedroom', 'kettle', 'oven', 'dishwasher', 'washer_dryer'] # house 5\n",
    "\n",
    "# device_columns = ['kettle', 'rice_cooker', 'washing_machine', 'dish_washer', 'microwave', 'toaster'] # house 2\n",
    "\n",
    "# Check unique states for each device\n",
    "for device in device_columns:\n",
    "    unique_states = df_combined[device].unique()\n",
    "    print(f\"Device: {device}, Unique States: {unique_states}, Number of States: {len(unique_states)}\")"
   ]
  },
  {
   "cell_type": "markdown",
   "metadata": {},
   "source": [
    "<h3><center><b>Random forests</b></center></h3>\n",
    "<hr>"
   ]
  },
  {
   "cell_type": "code",
   "execution_count": 5,
   "metadata": {},
   "outputs": [],
   "source": [
    "df_combined.drop('timestamp', axis=1, inplace=True)"
   ]
  },
  {
   "cell_type": "code",
   "execution_count": 6,
   "metadata": {},
   "outputs": [],
   "source": [
    "X = df_combined[['what_hour', 'what_day', 'is_weekend', 'aggregate', 'agg_clustered']]\n",
    "\n",
    "Y_columns = df_combined.columns.difference(X.columns)\n",
    "Y = df_combined[Y_columns]"
   ]
  },
  {
   "cell_type": "code",
   "execution_count": 7,
   "metadata": {},
   "outputs": [],
   "source": [
    "from sklearn.model_selection import train_test_split\n",
    "\n",
    "X_train, X_test, Y_train, Y_test = train_test_split(X, Y, test_size=0.3, random_state=42)"
   ]
  },
  {
   "cell_type": "code",
   "execution_count": null,
   "metadata": {},
   "outputs": [],
   "source": [
    "# here we search for the best parameters in random forest\n",
    "\n",
    "from sklearn.model_selection import GridSearchCV\n",
    "from sklearn.ensemble import RandomForestClassifier\n",
    "from sklearn.multioutput import MultiOutputClassifier\n",
    "\n",
    "# for grid search\n",
    "param_grid = {\n",
    "    'estimator__n_estimators': [50, 100, 200],\n",
    "    'estimator__max_depth': [None, 10, 20, 30],\n",
    "    'estimator__min_samples_split': [2, 5, 10],\n",
    "    'estimator__min_samples_leaf': [1, 2, 4]\n",
    "}\n",
    "\n",
    "base_rf = RandomForestClassifier(random_state=42)\n",
    "model = MultiOutputClassifier(base_rf, n_jobs=-1)\n",
    "\n",
    "# GridSearchCV\n",
    "grid_search = GridSearchCV(model, param_grid, cv=3, scoring='accuracy', n_jobs=-1)\n",
    "\n",
    "grid_search.fit(X_train, Y_train)\n",
    "\n",
    "print(\"Best parameters found: \", grid_search.best_params_)\n",
    "print(\"Best cross-validation score: {:.2f}\".format(grid_search.best_score_))\n",
    "\n",
    "best_params = grid_search.best_params_\n",
    "\n",
    "best_rf = RandomForestClassifier(\n",
    "    n_estimators=best_params['estimator__n_estimators'],\n",
    "    max_depth=best_params['estimator__max_depth'],\n",
    "    min_samples_split=best_params['estimator__min_samples_split'],\n",
    "    min_samples_leaf=best_params['estimator__min_samples_leaf'],\n",
    "    random_state=42\n",
    ")\n",
    "\n",
    "best_model = MultiOutputClassifier(best_rf, n_jobs=-1)\n",
    "\n",
    "# The best_model now looks like this:\n",
    "print(best_model)\n"
   ]
  },
  {
   "cell_type": "code",
   "execution_count": 9,
   "metadata": {},
   "outputs": [],
   "source": [
    "# Best parameters found\n",
    "\n",
    "from sklearn.ensemble import RandomForestClassifier\n",
    "from sklearn.multioutput import MultiOutputClassifier\n",
    "\n",
    "best_rf = RandomForestClassifier(n_estimators= 50, min_samples_leaf= 1, min_samples_split= 2, max_depth= None, random_state=42)\n",
    "\n",
    "model = MultiOutputClassifier(best_rf, n_jobs=1)"
   ]
  },
  {
   "cell_type": "code",
   "execution_count": 10,
   "metadata": {},
   "outputs": [
    {
     "data": {
      "text/html": [
       "<style>#sk-container-id-1 {color: black;}#sk-container-id-1 pre{padding: 0;}#sk-container-id-1 div.sk-toggleable {background-color: white;}#sk-container-id-1 label.sk-toggleable__label {cursor: pointer;display: block;width: 100%;margin-bottom: 0;padding: 0.3em;box-sizing: border-box;text-align: center;}#sk-container-id-1 label.sk-toggleable__label-arrow:before {content: \"▸\";float: left;margin-right: 0.25em;color: #696969;}#sk-container-id-1 label.sk-toggleable__label-arrow:hover:before {color: black;}#sk-container-id-1 div.sk-estimator:hover label.sk-toggleable__label-arrow:before {color: black;}#sk-container-id-1 div.sk-toggleable__content {max-height: 0;max-width: 0;overflow: hidden;text-align: left;background-color: #f0f8ff;}#sk-container-id-1 div.sk-toggleable__content pre {margin: 0.2em;color: black;border-radius: 0.25em;background-color: #f0f8ff;}#sk-container-id-1 input.sk-toggleable__control:checked~div.sk-toggleable__content {max-height: 200px;max-width: 100%;overflow: auto;}#sk-container-id-1 input.sk-toggleable__control:checked~label.sk-toggleable__label-arrow:before {content: \"▾\";}#sk-container-id-1 div.sk-estimator input.sk-toggleable__control:checked~label.sk-toggleable__label {background-color: #d4ebff;}#sk-container-id-1 div.sk-label input.sk-toggleable__control:checked~label.sk-toggleable__label {background-color: #d4ebff;}#sk-container-id-1 input.sk-hidden--visually {border: 0;clip: rect(1px 1px 1px 1px);clip: rect(1px, 1px, 1px, 1px);height: 1px;margin: -1px;overflow: hidden;padding: 0;position: absolute;width: 1px;}#sk-container-id-1 div.sk-estimator {font-family: monospace;background-color: #f0f8ff;border: 1px dotted black;border-radius: 0.25em;box-sizing: border-box;margin-bottom: 0.5em;}#sk-container-id-1 div.sk-estimator:hover {background-color: #d4ebff;}#sk-container-id-1 div.sk-parallel-item::after {content: \"\";width: 100%;border-bottom: 1px solid gray;flex-grow: 1;}#sk-container-id-1 div.sk-label:hover label.sk-toggleable__label {background-color: #d4ebff;}#sk-container-id-1 div.sk-serial::before {content: \"\";position: absolute;border-left: 1px solid gray;box-sizing: border-box;top: 0;bottom: 0;left: 50%;z-index: 0;}#sk-container-id-1 div.sk-serial {display: flex;flex-direction: column;align-items: center;background-color: white;padding-right: 0.2em;padding-left: 0.2em;position: relative;}#sk-container-id-1 div.sk-item {position: relative;z-index: 1;}#sk-container-id-1 div.sk-parallel {display: flex;align-items: stretch;justify-content: center;background-color: white;position: relative;}#sk-container-id-1 div.sk-item::before, #sk-container-id-1 div.sk-parallel-item::before {content: \"\";position: absolute;border-left: 1px solid gray;box-sizing: border-box;top: 0;bottom: 0;left: 50%;z-index: -1;}#sk-container-id-1 div.sk-parallel-item {display: flex;flex-direction: column;z-index: 1;position: relative;background-color: white;}#sk-container-id-1 div.sk-parallel-item:first-child::after {align-self: flex-end;width: 50%;}#sk-container-id-1 div.sk-parallel-item:last-child::after {align-self: flex-start;width: 50%;}#sk-container-id-1 div.sk-parallel-item:only-child::after {width: 0;}#sk-container-id-1 div.sk-dashed-wrapped {border: 1px dashed gray;margin: 0 0.4em 0.5em 0.4em;box-sizing: border-box;padding-bottom: 0.4em;background-color: white;}#sk-container-id-1 div.sk-label label {font-family: monospace;font-weight: bold;display: inline-block;line-height: 1.2em;}#sk-container-id-1 div.sk-label-container {text-align: center;}#sk-container-id-1 div.sk-container {/* jupyter's `normalize.less` sets `[hidden] { display: none; }` but bootstrap.min.css set `[hidden] { display: none !important; }` so we also need the `!important` here to be able to override the default hidden behavior on the sphinx rendered scikit-learn.org. See: https://github.com/scikit-learn/scikit-learn/issues/21755 */display: inline-block !important;position: relative;}#sk-container-id-1 div.sk-text-repr-fallback {display: none;}</style><div id=\"sk-container-id-1\" class=\"sk-top-container\"><div class=\"sk-text-repr-fallback\"><pre>MultiOutputClassifier(estimator=RandomForestClassifier(n_estimators=50,\n",
       "                                                       random_state=42),\n",
       "                      n_jobs=1)</pre><b>In a Jupyter environment, please rerun this cell to show the HTML representation or trust the notebook. <br />On GitHub, the HTML representation is unable to render, please try loading this page with nbviewer.org.</b></div><div class=\"sk-container\" hidden><div class=\"sk-item sk-dashed-wrapped\"><div class=\"sk-label-container\"><div class=\"sk-label sk-toggleable\"><input class=\"sk-toggleable__control sk-hidden--visually\" id=\"sk-estimator-id-1\" type=\"checkbox\" ><label for=\"sk-estimator-id-1\" class=\"sk-toggleable__label sk-toggleable__label-arrow\">MultiOutputClassifier</label><div class=\"sk-toggleable__content\"><pre>MultiOutputClassifier(estimator=RandomForestClassifier(n_estimators=50,\n",
       "                                                       random_state=42),\n",
       "                      n_jobs=1)</pre></div></div></div><div class=\"sk-parallel\"><div class=\"sk-parallel-item\"><div class=\"sk-item\"><div class=\"sk-label-container\"><div class=\"sk-label sk-toggleable\"><input class=\"sk-toggleable__control sk-hidden--visually\" id=\"sk-estimator-id-2\" type=\"checkbox\" ><label for=\"sk-estimator-id-2\" class=\"sk-toggleable__label sk-toggleable__label-arrow\">estimator: RandomForestClassifier</label><div class=\"sk-toggleable__content\"><pre>RandomForestClassifier(n_estimators=50, random_state=42)</pre></div></div></div><div class=\"sk-serial\"><div class=\"sk-item\"><div class=\"sk-estimator sk-toggleable\"><input class=\"sk-toggleable__control sk-hidden--visually\" id=\"sk-estimator-id-3\" type=\"checkbox\" ><label for=\"sk-estimator-id-3\" class=\"sk-toggleable__label sk-toggleable__label-arrow\">RandomForestClassifier</label><div class=\"sk-toggleable__content\"><pre>RandomForestClassifier(n_estimators=50, random_state=42)</pre></div></div></div></div></div></div></div></div></div></div>"
      ],
      "text/plain": [
       "MultiOutputClassifier(estimator=RandomForestClassifier(n_estimators=50,\n",
       "                                                       random_state=42),\n",
       "                      n_jobs=1)"
      ]
     },
     "execution_count": 10,
     "metadata": {},
     "output_type": "execute_result"
    }
   ],
   "source": [
    "model.fit(X_train, Y_train)"
   ]
  },
  {
   "cell_type": "code",
   "execution_count": 11,
   "metadata": {},
   "outputs": [],
   "source": [
    "y_pred = model.predict(X_test)"
   ]
  },
  {
   "cell_type": "code",
   "execution_count": 12,
   "metadata": {},
   "outputs": [
    {
     "name": "stdout",
     "output_type": "stream",
     "text": [
      "Exact Match Accuracy: 98.67%\n",
      "Hamming Accuracy for Label 1 (24_inch_lcd_bedroom): 99.38%\n",
      "Hamming Accuracy for Label 2 (dishwasher): 99.63%\n",
      "Hamming Accuracy for Label 3 (hairdryer): 99.99%\n",
      "Hamming Accuracy for Label 4 (kettle): 99.95%\n",
      "Hamming Accuracy for Label 5 (oven): 99.72%\n",
      "Hamming Accuracy for Label 6 (washer_dryer): 99.57%\n",
      "Overall Hamming Accuracy: 99.71%\n"
     ]
    }
   ],
   "source": [
    "import numpy as np\n",
    "import pandas as pd\n",
    "from sklearn.metrics import hamming_loss\n",
    "\n",
    "def exact_match_accuracy(true, pred):\n",
    "    true = np.array(true)\n",
    "    pred = np.array(pred)\n",
    "    exact_matches = np.all(true == pred, axis=1)\n",
    "    accuracy = np.mean(exact_matches)\n",
    "    return accuracy\n",
    "\n",
    "y_pred_df = pd.DataFrame(y_pred, columns=Y_test.columns, index=Y_test.index)\n",
    "\n",
    "Y_test_np = Y_test.to_numpy().astype(int)\n",
    "y_pred_np = y_pred_df.to_numpy().astype(int)\n",
    "\n",
    "# accuracy\n",
    "exact_accuracy = exact_match_accuracy(Y_test_np, y_pred_np)\n",
    "print(f\"Exact Match Accuracy: {exact_accuracy:.2%}\")\n",
    "\n",
    "mismatches = Y_test_np != y_pred_np\n",
    "hamming_losses = mismatches.mean(axis=0)\n",
    "hamming_accuracies = 1 - hamming_losses\n",
    "\n",
    "# Hamming accuracy for each label\n",
    "for i, accuracy in enumerate(hamming_accuracies):\n",
    "    print(f\"Hamming Accuracy for Label {i+1} ({Y_test.columns[i]}): {accuracy:.2%}\")\n",
    "\n",
    "# overall Hamming accuracy\n",
    "overall_hamming_accuracy = 1 - np.mean(hamming_losses)\n",
    "print(f\"Overall Hamming Accuracy: {overall_hamming_accuracy:.2%}\")\n"
   ]
  },
  {
   "cell_type": "code",
   "execution_count": 13,
   "metadata": {},
   "outputs": [
    {
     "name": "stdout",
     "output_type": "stream",
     "text": [
      "Classification Report for each target:\n",
      "\n",
      "Classification Report for 24_inch_lcd_bedroom:\n",
      "              precision    recall  f1-score   support\n",
      "\n",
      "           0       1.00      1.00      1.00     57053\n",
      "           1       0.92      0.91      0.91      2161\n",
      "\n",
      "    accuracy                           0.99     59214\n",
      "   macro avg       0.96      0.95      0.96     59214\n",
      "weighted avg       0.99      0.99      0.99     59214\n",
      "\n",
      "\n",
      "Classification Report for dishwasher:\n",
      "              precision    recall  f1-score   support\n",
      "\n",
      "           0       1.00      1.00      1.00     57970\n",
      "           1       0.61      0.49      0.55        67\n",
      "           2       0.87      0.90      0.88       654\n",
      "           4       0.98      0.98      0.98       523\n",
      "\n",
      "    accuracy                           1.00     59214\n",
      "   macro avg       0.86      0.84      0.85     59214\n",
      "weighted avg       1.00      1.00      1.00     59214\n",
      "\n",
      "\n",
      "Classification Report for hairdryer:\n",
      "              precision    recall  f1-score   support\n",
      "\n",
      "           0       1.00      1.00      1.00     59115\n",
      "           1       1.00      0.50      0.67         4\n",
      "           2       0.97      0.98      0.97        95\n",
      "\n",
      "    accuracy                           1.00     59214\n",
      "   macro avg       0.99      0.83      0.88     59214\n",
      "weighted avg       1.00      1.00      1.00     59214\n",
      "\n",
      "\n",
      "Classification Report for kettle:\n",
      "              precision    recall  f1-score   support\n",
      "\n",
      "           0       1.00      1.00      1.00     59112\n",
      "           1       0.86      0.83      0.85       102\n",
      "\n",
      "    accuracy                           1.00     59214\n",
      "   macro avg       0.93      0.92      0.92     59214\n",
      "weighted avg       1.00      1.00      1.00     59214\n",
      "\n",
      "\n",
      "Classification Report for oven:\n",
      "              precision    recall  f1-score   support\n",
      "\n",
      "           0       1.00      1.00      1.00     58132\n",
      "           1       0.88      0.84      0.86       447\n",
      "           2       0.97      0.98      0.97       533\n",
      "           3       0.93      0.86      0.89       102\n",
      "\n",
      "    accuracy                           1.00     59214\n",
      "   macro avg       0.94      0.92      0.93     59214\n",
      "weighted avg       1.00      1.00      1.00     59214\n",
      "\n",
      "\n",
      "Classification Report for washer_dryer:\n",
      "              precision    recall  f1-score   support\n",
      "\n",
      "           0       1.00      1.00      1.00     56557\n",
      "           1       0.95      0.88      0.91      1241\n",
      "           2       0.97      0.99      0.98       751\n",
      "           3       0.99      0.99      0.99       581\n",
      "           4       0.87      0.69      0.77        84\n",
      "\n",
      "    accuracy                           1.00     59214\n",
      "   macro avg       0.96      0.91      0.93     59214\n",
      "weighted avg       1.00      1.00      1.00     59214\n",
      "\n"
     ]
    }
   ],
   "source": [
    "from sklearn.metrics import classification_report\n",
    "\n",
    "print(\"Classification Report for each target:\")\n",
    "for i, column in enumerate(Y_test.columns):\n",
    "    print(f\"\\nClassification Report for {column}:\")\n",
    "    print(classification_report(Y_test.iloc[:, i], y_pred[:, i], zero_division=0))\n"
   ]
  },
  {
   "cell_type": "code",
   "execution_count": 16,
   "metadata": {},
   "outputs": [
    {
     "data": {
      "image/png": "[encoded data removed]",
      "text/plain": [
       "<Figure size 1000x600 with 1 Axes>"
      ]
     },
     "metadata": {},
     "output_type": "display_data"
    }
   ],
   "source": [
    "import matplotlib.pyplot as plt\n",
    "import numpy as np\n",
    "from matplotlib.lines import Line2D\n",
    "\n",
    "#  choose the device number for visualization\n",
    "device = 5\n",
    "n_samples =  49345\n",
    "\n",
    "plt.figure(figsize=(10, 6))\n",
    "plt.subplot(2, 1, 1)\n",
    "y_pred = pd.DataFrame(y_pred)\n",
    "\n",
    "colors = np.array(['green' if int(a) == int(b) else 'red' for a, b in zip(y_pred.iloc[:n_samples, device], Y_test.iloc[:n_samples, device])])\n",
    "\n",
    "x_indices = Y_test.index[:n_samples]\n",
    "\n",
    "scatter = plt.scatter(x_indices, Y_test.iloc[:n_samples, device].astype(int),\n",
    "                      c=colors, alpha=0.5, s=5)\n",
    "\n",
    "plt.yticks(np.arange(min(Y_test.iloc[:n_samples, device].astype(int)), max(Y_test.iloc[:n_samples, device].astype(int)) + 1))\n",
    "\n",
    "legend_elements = [Line2D([0], [0], marker='o', color='w', label='Match',\n",
    "                          markerfacecolor='green', markersize=10),\n",
    "                   Line2D([0], [0], marker='o', color='w', label='Mismatch',\n",
    "                          markerfacecolor='red', markersize=10)]\n",
    "plt.legend(handles=legend_elements, loc='upper right')\n",
    "\n",
    "plt.ylabel('State', fontsize=15)\n",
    "plt.xlabel('Time (Minutes)', fontsize=15)\n",
    "\n",
    "plt.tight_layout()\n",
    "plt.show()"
   ]
  },
  {
   "cell_type": "code",
   "execution_count": 15,
   "metadata": {},
   "outputs": [
    {
     "name": "stdout",
     "output_type": "stream",
     "text": [
      "Feature importances for target 24_inch_lcd_bedroom:\n",
      "aggregate: 0.5418505499350287\n",
      "what_hour: 0.22587796891992498\n",
      "agg_clustered: 0.1700373348855909\n",
      "what_day: 0.056257129575134374\n",
      "is_weekend: 0.005977016684321148\n",
      "\n",
      "\n",
      "Feature importances for target dishwasher:\n",
      "aggregate: 0.5379602162178689\n",
      "agg_clustered: 0.23168815088354708\n",
      "what_hour: 0.15724395382808717\n",
      "what_day: 0.06705881929215506\n",
      "is_weekend: 0.006048859778341763\n",
      "\n",
      "\n",
      "Feature importances for target hairdryer:\n",
      "aggregate: 0.5726813013297102\n",
      "what_hour: 0.27647584067231334\n",
      "agg_clustered: 0.13776949645320868\n",
      "what_day: 0.011171471016585137\n",
      "is_weekend: 0.001901890528182748\n",
      "\n",
      "\n",
      "Feature importances for target kettle:\n",
      "aggregate: 0.4704252057877759\n",
      "agg_clustered: 0.24675972446720026\n",
      "what_hour: 0.1909406152478155\n",
      "what_day: 0.0813334080381399\n",
      "is_weekend: 0.010541046459068311\n",
      "\n",
      "\n",
      "Feature importances for target oven:\n",
      "aggregate: 0.5088448325059659\n",
      "agg_clustered: 0.27868219230088853\n",
      "what_hour: 0.1527689363730318\n",
      "what_day: 0.05145555714596026\n",
      "is_weekend: 0.008248481674153594\n",
      "\n",
      "\n",
      "Feature importances for target washer_dryer:\n",
      "aggregate: 0.5007211774648909\n",
      "agg_clustered: 0.39284683945702337\n",
      "what_hour: 0.07524256144719109\n",
      "what_day: 0.026379866730228553\n",
      "is_weekend: 0.004809554900666154\n",
      "\n",
      "\n"
     ]
    }
   ],
   "source": [
    "# Extract feature importance\n",
    "\n",
    "for i, estimator in enumerate(model.estimators_):\n",
    "    print(f\"Feature importances for target {Y_train.columns[i]}:\")\n",
    "    importances = estimator.feature_importances_\n",
    "    features = X_train.columns\n",
    "    indices = importances.argsort()[::-1]\n",
    "\n",
    "    for f in range(X_train.shape[1]):\n",
    "        print(f\"{features[indices[f]]}: {importances[indices[f]]}\")\n",
    "    print(\"\\n\")\n"
   ]
  }
 ],
 "metadata": {
  "kernelspec": {
   "display_name": "Python 3",
   "language": "python",
   "name": "python3"
  },
  "language_info": {
   "codemirror_mode": {
    "name": "ipython",
    "version": 3
   },
   "file_extension": ".py",
   "mimetype": "text/x-python",
   "name": "python",
   "nbconvert_exporter": "python",
   "pygments_lexer": "ipython3",
   "version": "3.11.5"
  }
 },
 "nbformat": 4,
 "nbformat_minor": 2
}

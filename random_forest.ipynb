{
 "cells": [
  {
   "cell_type": "code",
   "execution_count": 125,
   "metadata": {},
   "outputs": [],
   "source": [
    "# Loading\n",
    "\n",
    "import pandas as pd\n",
    "df_combined = pd.read_parquet('parquets/house2/df_combined1')"
   ]
  },
  {
   "cell_type": "code",
   "execution_count": 108,
   "metadata": {},
   "outputs": [],
   "source": [
    "for col in df_combined.columns:\n",
    "    df_combined[col] = pd.to_numeric(df_combined[col], errors='coerce')"
   ]
  },
  {
   "cell_type": "code",
   "execution_count": 110,
   "metadata": {},
   "outputs": [
    {
     "name": "stdout",
     "output_type": "stream",
     "text": [
      "Device: kettle, Unique States: [0 2 1], Number of States: 3\n",
      "Device: rice_cooker, Unique States: [0 1 2], Number of States: 3\n",
      "Device: washing_machine, Unique States: [0 1 3 2], Number of States: 4\n",
      "Device: dish_washer, Unique States: [0 2 1 3], Number of States: 4\n",
      "Device: microwave, Unique States: [0 1 3 2 4], Number of States: 5\n",
      "Device: toaster, Unique States: [0 1], Number of States: 2\n"
     ]
    }
   ],
   "source": [
    "device_columns = ['kettle', 'rice_cooker', 'washing_machine', 'dish_washer', 'microwave', 'toaster']\n",
    "\n",
    "# Check unique states for each device\n",
    "for device in device_columns:\n",
    "    unique_states = df_combined[device].unique()\n",
    "    print(f\"Device: {device}, Unique States: {unique_states}, Number of States: {len(unique_states)}\")"
   ]
  },
  {
   "cell_type": "code",
   "execution_count": 126,
   "metadata": {},
   "outputs": [
    {
     "data": {
      "text/plain": [
       "(197777, 12)"
      ]
     },
     "execution_count": 126,
     "metadata": {},
     "output_type": "execute_result"
    }
   ],
   "source": [
    "df_combined.shape"
   ]
  },
  {
   "cell_type": "markdown",
   "metadata": {},
   "source": [
    "<h3><center><b>Random forests</b></center></h3>\n",
    "<hr>"
   ]
  },
  {
   "cell_type": "code",
   "execution_count": 111,
   "metadata": {},
   "outputs": [],
   "source": [
    "df_combined.drop('timestamp', axis=1, inplace=True)"
   ]
  },
  {
   "cell_type": "code",
   "execution_count": 112,
   "metadata": {},
   "outputs": [],
   "source": [
    "X = df_combined[['what_hour', 'what_day', 'is_weekend', 'aggregate', 'agg_clustered']]\n",
    "\n",
    "Y_columns = df_combined.columns.difference(X.columns)\n",
    "Y = df_combined[Y_columns]"
   ]
  },
  {
   "cell_type": "code",
   "execution_count": 113,
   "metadata": {},
   "outputs": [],
   "source": [
    "from sklearn.model_selection import train_test_split\n",
    "\n",
    "X_train, X_test, Y_train, Y_test = train_test_split(X, Y, test_size=0.3, random_state=42)"
   ]
  },
  {
   "cell_type": "code",
   "execution_count": 52,
   "metadata": {},
   "outputs": [
    {
     "name": "stderr",
     "output_type": "stream",
     "text": [
      "c:\\Python311\\Lib\\site-packages\\sklearn\\model_selection\\_search.py:979: UserWarning: One or more of the test scores are non-finite: [nan nan nan nan nan nan nan nan nan nan nan nan nan nan nan nan nan nan\n",
      " nan nan nan nan nan nan nan nan nan nan nan nan nan nan nan nan nan nan\n",
      " nan nan nan nan nan nan nan nan nan nan nan nan nan nan nan nan nan nan\n",
      " nan nan nan nan nan nan nan nan nan nan nan nan nan nan nan nan nan nan\n",
      " nan nan nan nan nan nan nan nan nan nan nan nan nan nan nan nan nan nan\n",
      " nan nan nan nan nan nan nan nan nan nan nan nan nan nan nan nan nan nan]\n",
      "  warnings.warn(\n"
     ]
    },
    {
     "name": "stdout",
     "output_type": "stream",
     "text": [
      "Best parameters found:  {'estimator__max_depth': None, 'estimator__min_samples_leaf': 1, 'estimator__min_samples_split': 2, 'estimator__n_estimators': 50}\n",
      "Best cross-validation score: nan\n",
      "MultiOutputClassifier(estimator=RandomForestClassifier(n_estimators=50,\n",
      "                                                       random_state=42),\n",
      "                      n_jobs=-1)\n"
     ]
    }
   ],
   "source": [
    "from sklearn.model_selection import GridSearchCV\n",
    "from sklearn.ensemble import RandomForestClassifier\n",
    "from sklearn.multioutput import MultiOutputClassifier\n",
    "\n",
    "# for grid search\n",
    "param_grid = {\n",
    "    'estimator__n_estimators': [50, 100, 200],\n",
    "    'estimator__max_depth': [None, 10, 20, 30],\n",
    "    'estimator__min_samples_split': [2, 5, 10],\n",
    "    'estimator__min_samples_leaf': [1, 2, 4]\n",
    "}\n",
    "\n",
    "base_rf = RandomForestClassifier(random_state=42)\n",
    "model = MultiOutputClassifier(base_rf, n_jobs=-1)\n",
    "\n",
    "# GridSearchCV\n",
    "grid_search = GridSearchCV(model, param_grid, cv=3, scoring='accuracy', n_jobs=-1)\n",
    "\n",
    "grid_search.fit(X_train, Y_train)\n",
    "\n",
    "print(\"Best parameters found: \", grid_search.best_params_)\n",
    "print(\"Best cross-validation score: {:.2f}\".format(grid_search.best_score_))\n",
    "\n",
    "best_params = grid_search.best_params_\n",
    "\n",
    "best_rf = RandomForestClassifier(\n",
    "    n_estimators=best_params['estimator__n_estimators'],\n",
    "    max_depth=best_params['estimator__max_depth'],\n",
    "    min_samples_split=best_params['estimator__min_samples_split'],\n",
    "    min_samples_leaf=best_params['estimator__min_samples_leaf'],\n",
    "    random_state=42\n",
    ")\n",
    "\n",
    "best_model = MultiOutputClassifier(best_rf, n_jobs=-1)\n",
    "\n",
    "# The best_model now looks like this:\n",
    "print(best_model)\n"
   ]
  },
  {
   "cell_type": "code",
   "execution_count": 114,
   "metadata": {},
   "outputs": [],
   "source": [
    "# Best parameters found\n",
    "\n",
    "from sklearn.ensemble import RandomForestClassifier\n",
    "from sklearn.multioutput import MultiOutputClassifier\n",
    "\n",
    "best_rf = RandomForestClassifier(n_estimators= 50, min_samples_leaf= 1, min_samples_split= 2, max_depth= None, random_state=42)\n",
    "\n",
    "model = MultiOutputClassifier(best_rf, n_jobs=1)"
   ]
  },
  {
   "cell_type": "code",
   "execution_count": 115,
   "metadata": {},
   "outputs": [
    {
     "data": {
      "text/html": [
       "<style>#sk-container-id-6 {color: black;}#sk-container-id-6 pre{padding: 0;}#sk-container-id-6 div.sk-toggleable {background-color: white;}#sk-container-id-6 label.sk-toggleable__label {cursor: pointer;display: block;width: 100%;margin-bottom: 0;padding: 0.3em;box-sizing: border-box;text-align: center;}#sk-container-id-6 label.sk-toggleable__label-arrow:before {content: \"▸\";float: left;margin-right: 0.25em;color: #696969;}#sk-container-id-6 label.sk-toggleable__label-arrow:hover:before {color: black;}#sk-container-id-6 div.sk-estimator:hover label.sk-toggleable__label-arrow:before {color: black;}#sk-container-id-6 div.sk-toggleable__content {max-height: 0;max-width: 0;overflow: hidden;text-align: left;background-color: #f0f8ff;}#sk-container-id-6 div.sk-toggleable__content pre {margin: 0.2em;color: black;border-radius: 0.25em;background-color: #f0f8ff;}#sk-container-id-6 input.sk-toggleable__control:checked~div.sk-toggleable__content {max-height: 200px;max-width: 100%;overflow: auto;}#sk-container-id-6 input.sk-toggleable__control:checked~label.sk-toggleable__label-arrow:before {content: \"▾\";}#sk-container-id-6 div.sk-estimator input.sk-toggleable__control:checked~label.sk-toggleable__label {background-color: #d4ebff;}#sk-container-id-6 div.sk-label input.sk-toggleable__control:checked~label.sk-toggleable__label {background-color: #d4ebff;}#sk-container-id-6 input.sk-hidden--visually {border: 0;clip: rect(1px 1px 1px 1px);clip: rect(1px, 1px, 1px, 1px);height: 1px;margin: -1px;overflow: hidden;padding: 0;position: absolute;width: 1px;}#sk-container-id-6 div.sk-estimator {font-family: monospace;background-color: #f0f8ff;border: 1px dotted black;border-radius: 0.25em;box-sizing: border-box;margin-bottom: 0.5em;}#sk-container-id-6 div.sk-estimator:hover {background-color: #d4ebff;}#sk-container-id-6 div.sk-parallel-item::after {content: \"\";width: 100%;border-bottom: 1px solid gray;flex-grow: 1;}#sk-container-id-6 div.sk-label:hover label.sk-toggleable__label {background-color: #d4ebff;}#sk-container-id-6 div.sk-serial::before {content: \"\";position: absolute;border-left: 1px solid gray;box-sizing: border-box;top: 0;bottom: 0;left: 50%;z-index: 0;}#sk-container-id-6 div.sk-serial {display: flex;flex-direction: column;align-items: center;background-color: white;padding-right: 0.2em;padding-left: 0.2em;position: relative;}#sk-container-id-6 div.sk-item {position: relative;z-index: 1;}#sk-container-id-6 div.sk-parallel {display: flex;align-items: stretch;justify-content: center;background-color: white;position: relative;}#sk-container-id-6 div.sk-item::before, #sk-container-id-6 div.sk-parallel-item::before {content: \"\";position: absolute;border-left: 1px solid gray;box-sizing: border-box;top: 0;bottom: 0;left: 50%;z-index: -1;}#sk-container-id-6 div.sk-parallel-item {display: flex;flex-direction: column;z-index: 1;position: relative;background-color: white;}#sk-container-id-6 div.sk-parallel-item:first-child::after {align-self: flex-end;width: 50%;}#sk-container-id-6 div.sk-parallel-item:last-child::after {align-self: flex-start;width: 50%;}#sk-container-id-6 div.sk-parallel-item:only-child::after {width: 0;}#sk-container-id-6 div.sk-dashed-wrapped {border: 1px dashed gray;margin: 0 0.4em 0.5em 0.4em;box-sizing: border-box;padding-bottom: 0.4em;background-color: white;}#sk-container-id-6 div.sk-label label {font-family: monospace;font-weight: bold;display: inline-block;line-height: 1.2em;}#sk-container-id-6 div.sk-label-container {text-align: center;}#sk-container-id-6 div.sk-container {/* jupyter's `normalize.less` sets `[hidden] { display: none; }` but bootstrap.min.css set `[hidden] { display: none !important; }` so we also need the `!important` here to be able to override the default hidden behavior on the sphinx rendered scikit-learn.org. See: https://github.com/scikit-learn/scikit-learn/issues/21755 */display: inline-block !important;position: relative;}#sk-container-id-6 div.sk-text-repr-fallback {display: none;}</style><div id=\"sk-container-id-6\" class=\"sk-top-container\"><div class=\"sk-text-repr-fallback\"><pre>MultiOutputClassifier(estimator=RandomForestClassifier(n_estimators=50,\n",
       "                                                       random_state=42),\n",
       "                      n_jobs=1)</pre><b>In a Jupyter environment, please rerun this cell to show the HTML representation or trust the notebook. <br />On GitHub, the HTML representation is unable to render, please try loading this page with nbviewer.org.</b></div><div class=\"sk-container\" hidden><div class=\"sk-item sk-dashed-wrapped\"><div class=\"sk-label-container\"><div class=\"sk-label sk-toggleable\"><input class=\"sk-toggleable__control sk-hidden--visually\" id=\"sk-estimator-id-16\" type=\"checkbox\" ><label for=\"sk-estimator-id-16\" class=\"sk-toggleable__label sk-toggleable__label-arrow\">MultiOutputClassifier</label><div class=\"sk-toggleable__content\"><pre>MultiOutputClassifier(estimator=RandomForestClassifier(n_estimators=50,\n",
       "                                                       random_state=42),\n",
       "                      n_jobs=1)</pre></div></div></div><div class=\"sk-parallel\"><div class=\"sk-parallel-item\"><div class=\"sk-item\"><div class=\"sk-label-container\"><div class=\"sk-label sk-toggleable\"><input class=\"sk-toggleable__control sk-hidden--visually\" id=\"sk-estimator-id-17\" type=\"checkbox\" ><label for=\"sk-estimator-id-17\" class=\"sk-toggleable__label sk-toggleable__label-arrow\">estimator: RandomForestClassifier</label><div class=\"sk-toggleable__content\"><pre>RandomForestClassifier(n_estimators=50, random_state=42)</pre></div></div></div><div class=\"sk-serial\"><div class=\"sk-item\"><div class=\"sk-estimator sk-toggleable\"><input class=\"sk-toggleable__control sk-hidden--visually\" id=\"sk-estimator-id-18\" type=\"checkbox\" ><label for=\"sk-estimator-id-18\" class=\"sk-toggleable__label sk-toggleable__label-arrow\">RandomForestClassifier</label><div class=\"sk-toggleable__content\"><pre>RandomForestClassifier(n_estimators=50, random_state=42)</pre></div></div></div></div></div></div></div></div></div></div>"
      ],
      "text/plain": [
       "MultiOutputClassifier(estimator=RandomForestClassifier(n_estimators=50,\n",
       "                                                       random_state=42),\n",
       "                      n_jobs=1)"
      ]
     },
     "execution_count": 115,
     "metadata": {},
     "output_type": "execute_result"
    }
   ],
   "source": [
    "model.fit(X_train, Y_train)"
   ]
  },
  {
   "cell_type": "code",
   "execution_count": 116,
   "metadata": {},
   "outputs": [],
   "source": [
    "y_pred = model.predict(X_test)"
   ]
  },
  {
   "cell_type": "code",
   "execution_count": 117,
   "metadata": {},
   "outputs": [
    {
     "name": "stdout",
     "output_type": "stream",
     "text": [
      "Exact Match Accuracy: 99.75%\n",
      "Hamming Accuracy for Label 1 (dish_washer): 99.89%\n",
      "Hamming Accuracy for Label 2 (kettle): 99.99%\n",
      "Hamming Accuracy for Label 3 (microwave): 99.90%\n",
      "Hamming Accuracy for Label 4 (rice_cooker): 99.98%\n",
      "Hamming Accuracy for Label 5 (toaster): 99.99%\n",
      "Hamming Accuracy for Label 6 (washing_machine): 99.88%\n",
      "Overall Hamming Accuracy: 99.94%\n"
     ]
    }
   ],
   "source": [
    "import numpy as np\n",
    "import pandas as pd\n",
    "from sklearn.metrics import hamming_loss\n",
    "\n",
    "def exact_match_accuracy(true, pred):\n",
    "    true = np.array(true)\n",
    "    pred = np.array(pred)\n",
    "    exact_matches = np.all(true == pred, axis=1)\n",
    "    accuracy = np.mean(exact_matches)\n",
    "    return accuracy\n",
    "\n",
    "y_pred_df = pd.DataFrame(y_pred, columns=Y_test.columns, index=Y_test.index)\n",
    "\n",
    "Y_test_np = Y_test.to_numpy().astype(int)\n",
    "y_pred_np = y_pred_df.to_numpy().astype(int)\n",
    "\n",
    "# accuracy\n",
    "exact_accuracy = exact_match_accuracy(Y_test_np, y_pred_np)\n",
    "print(f\"Exact Match Accuracy: {exact_accuracy:.2%}\")\n",
    "\n",
    "mismatches = Y_test_np != y_pred_np\n",
    "hamming_losses = mismatches.mean(axis=0)\n",
    "hamming_accuracies = 1 - hamming_losses\n",
    "\n",
    "# Hamming accuracy for each label\n",
    "for i, accuracy in enumerate(hamming_accuracies):\n",
    "    print(f\"Hamming Accuracy for Label {i+1} ({Y_test.columns[i]}): {accuracy:.2%}\")\n",
    "\n",
    "# overall Hamming accuracy\n",
    "overall_hamming_accuracy = 1 - np.mean(hamming_losses)\n",
    "print(f\"Overall Hamming Accuracy: {overall_hamming_accuracy:.2%}\")\n"
   ]
  },
  {
   "cell_type": "code",
   "execution_count": null,
   "metadata": {},
   "outputs": [],
   "source": [
    "from sklearn.metrics import classification_report\n",
    "\n",
    "print(\"Classification Report for each target:\")\n",
    "for i, column in enumerate(Y_test.columns):\n",
    "    print(f\"\\nClassification Report for {column}:\")\n",
    "    print(classification_report(Y_test.iloc[:, i], y_pred[:, i]))\n"
   ]
  },
  {
   "cell_type": "code",
   "execution_count": 127,
   "metadata": {},
   "outputs": [
    {
     "data": {
      "image/png": "[encoded data removed]",
      "text/plain": [
       "<Figure size 1000x600 with 1 Axes>"
      ]
     },
     "metadata": {},
     "output_type": "display_data"
    }
   ],
   "source": [
    "import matplotlib.pyplot as plt\n",
    "import numpy as np\n",
    "from matplotlib.lines import Line2D\n",
    "\n",
    "#  example\n",
    "device = 0\n",
    "n_samples =  49345\n",
    "\n",
    "plt.figure(figsize=(10, 6))\n",
    "plt.subplot(2, 1, 1)\n",
    "y_pred = pd.DataFrame(y_pred)\n",
    "\n",
    "colors = np.array(['green' if int(a) == int(b) else 'red' for a, b in zip(y_pred.iloc[:n_samples, device], Y_test.iloc[:n_samples, device])])\n",
    "\n",
    "x_indices = Y_test.index[:n_samples]\n",
    "\n",
    "scatter = plt.scatter(x_indices, Y_test.iloc[:n_samples, device].astype(int),\n",
    "                      c=colors, alpha=0.5, s=5)\n",
    "\n",
    "plt.yticks(np.arange(min(Y_test.iloc[:n_samples, device].astype(int)), max(Y_test.iloc[:n_samples, device].astype(int)) + 1))\n",
    "\n",
    "legend_elements = [Line2D([0], [0], marker='o', color='w', label='Match',\n",
    "                          markerfacecolor='green', markersize=10),\n",
    "                   Line2D([0], [0], marker='o', color='w', label='Mismatch',\n",
    "                          markerfacecolor='red', markersize=10)]\n",
    "plt.legend(handles=legend_elements, loc='upper right')\n",
    "\n",
    "# plt.title('Actual vs. Predicted States')\n",
    "plt.ylabel('State')\n",
    "plt.xlabel('Timeline')\n",
    "\n",
    "plt.tight_layout()\n",
    "plt.show()"
   ]
  },
  {
   "cell_type": "code",
   "execution_count": 119,
   "metadata": {},
   "outputs": [
    {
     "name": "stdout",
     "output_type": "stream",
     "text": [
      "Feature importances for target dish_washer:\n",
      "aggregate: 0.46201934782455756\n",
      "agg_clustered: 0.4335409236314448\n",
      "what_hour: 0.09400124253363601\n",
      "what_day: 0.008413902567494705\n",
      "is_weekend: 0.0020245834428670294\n",
      "\n",
      "\n",
      "Feature importances for target kettle:\n",
      "agg_clustered: 0.6045375845518667\n",
      "aggregate: 0.3814431764642215\n",
      "what_hour: 0.009059267845084231\n",
      "what_day: 0.0036536048721793387\n",
      "is_weekend: 0.001306366266648314\n",
      "\n",
      "\n",
      "Feature importances for target microwave:\n",
      "aggregate: 0.5114712303971346\n",
      "agg_clustered: 0.3293876837648055\n",
      "what_hour: 0.12474880775289093\n",
      "what_day: 0.01946359133946606\n",
      "is_weekend: 0.014928686745702892\n",
      "\n",
      "\n",
      "Feature importances for target rice_cooker:\n",
      "aggregate: 0.5224294424617323\n",
      "agg_clustered: 0.2706002315689433\n",
      "what_hour: 0.18564837151584557\n",
      "what_day: 0.01708460782553921\n",
      "is_weekend: 0.004237346627939596\n",
      "\n",
      "\n",
      "Feature importances for target toaster:\n",
      "aggregate: 0.8850108969382318\n",
      "agg_clustered: 0.04927100313650297\n",
      "what_hour: 0.0488315670729051\n",
      "what_day: 0.01306106536406599\n",
      "is_weekend: 0.003825467488294147\n",
      "\n",
      "\n",
      "Feature importances for target washing_machine:\n",
      "aggregate: 0.4696679081039295\n",
      "what_hour: 0.24742297871297925\n",
      "agg_clustered: 0.23852881829636385\n",
      "what_day: 0.02740645833075208\n",
      "is_weekend: 0.016973836555975307\n",
      "\n",
      "\n"
     ]
    }
   ],
   "source": [
    "# Extract feature importance\n",
    "\n",
    "for i, estimator in enumerate(model.estimators_):\n",
    "    print(f\"Feature importances for target {Y_train.columns[i]}:\")\n",
    "    importances = estimator.feature_importances_\n",
    "    features = X_train.columns\n",
    "    indices = importances.argsort()[::-1]\n",
    "\n",
    "    for f in range(X_train.shape[1]):\n",
    "        print(f\"{features[indices[f]]}: {importances[indices[f]]}\")\n",
    "    print(\"\\n\")\n"
   ]
  }
 ],
 "metadata": {
  "kernelspec": {
   "display_name": "Python 3",
   "language": "python",
   "name": "python3"
  },
  "language_info": {
   "codemirror_mode": {
    "name": "ipython",
    "version": 3
   },
   "file_extension": ".py",
   "mimetype": "text/x-python",
   "name": "python",
   "nbconvert_exporter": "python",
   "pygments_lexer": "ipython3",
   "version": "3.11.5"
  }
 },
 "nbformat": 4,
 "nbformat_minor": 2
}
